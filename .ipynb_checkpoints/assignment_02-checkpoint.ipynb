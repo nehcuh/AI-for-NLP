{
 "cells": [
  {
   "cell_type": "code",
   "execution_count": 15,
   "metadata": {},
   "outputs": [],
   "source": [
    "import requests\n",
    "import pandas as pd\n",
    "import networkx as nx\n",
    "import re\n",
    "import matplotlib.pyplot as plt"
   ]
  },
  {
   "cell_type": "code",
   "execution_count": 3,
   "metadata": {},
   "outputs": [],
   "source": [
    "%matplotlib inline"
   ]
  },
  {
   "cell_type": "code",
   "execution_count": 6,
   "metadata": {},
   "outputs": [],
   "source": [
    "base_url = \"https://baike.baidu.com/item/\"\n",
    "base_item = \"北京地铁\"\n",
    "headers = {\"User-Agent\":\"Mozilla/5.0 (Macintosh; Intel Mac OS X 10_14_5) AppleWebKit/537.36 (KHTML, like Gecko) Chrome/75.0.3770.100 Safari/537.36\"}"
   ]
  },
  {
   "cell_type": "code",
   "execution_count": 7,
   "metadata": {},
   "outputs": [],
   "source": [
    "response = requests.get(base_url+base_item, headers=headers)"
   ]
  },
  {
   "cell_type": "code",
   "execution_count": 17,
   "metadata": {},
   "outputs": [],
   "source": [
    "metro_lines = set()\n",
    "for item in pd.read_html(response.content.decode())[1]['线路名称'].tolist()[:-1]:\n",
    "    metro_lines.add(re.findall(r\"(\\w+?线)\", item)[0])"
   ]
  },
  {
   "cell_type": "code",
   "execution_count": 19,
   "metadata": {},
   "outputs": [],
   "source": [
    "metro_lines = list(metro_lines)"
   ]
  },
  {
   "cell_type": "code",
   "execution_count": 22,
   "metadata": {},
   "outputs": [],
   "source": [
    "def request_website(url: str, headers: dict=None, max_attempts=20):\n",
    "    \"\"\"\n",
    "    请求 url 并返回请求结果与内容\n",
    "    \"\"\"\n",
    "    response = requests.get(url, headers=headers)\n",
    "    return response.status_code, response.content"
   ]
  },
  {
   "cell_type": "code",
   "execution_count": 23,
   "metadata": {},
   "outputs": [],
   "source": [
    "def parse_table(tables: list):\n",
    "    \"\"\"\n",
    "    对 tables 进行判断，如果有相应的 ”车站名称“ 列，\n",
    "    将相应列转换为 list 并返回\n",
    "    :param tables: 其中的元素为 pd.DataFrame()\n",
    "    :return: 空或者相应列表\n",
    "    \"\"\"\n",
    "    if isinstance(tables, pd.DataFrame):\n",
    "        tabels = [tables]\n",
    "    assert isinstance(tables, list)\n",
    "    final_stations = []\n",
    "    for table in tables:\n",
    "        try:\n",
    "            stations = table['车站名称'].tolist()\n",
    "            # 一些必要的正则匹配\n",
    "            for station in stations:\n",
    "                if re.match(r\"\\w+?站\", station.split(' ')[0]):\n",
    "                    final_stations.append(station)\n",
    "        except:\n",
    "            continue\n",
    "    return final_stations"
   ]
  },
  {
   "cell_type": "code",
   "execution_count": null,
   "metadata": {},
   "outputs": [],
   "source": [
    "for metro_line in metro_lines:\n",
    "    status, response = request_website(base_url+base_item+metro_line, headers=headers)\n",
    "    if status != 200:\n",
    "        print(\"线路 {} 信息无法找到，跳过\".format(metro_line))\n",
    "        "
   ]
  }
 ],
 "metadata": {
  "kernelspec": {
   "display_name": "Python 3",
   "language": "python",
   "name": "python3"
  },
  "language_info": {
   "codemirror_mode": {
    "name": "ipython",
    "version": 3
   },
   "file_extension": ".py",
   "mimetype": "text/x-python",
   "name": "python",
   "nbconvert_exporter": "python",
   "pygments_lexer": "ipython3",
   "version": "3.7.3"
  }
 },
 "nbformat": 4,
 "nbformat_minor": 2
}
