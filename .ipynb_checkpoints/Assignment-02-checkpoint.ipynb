{
 "cells": [
  {
   "cell_type": "markdown",
   "metadata": {},
   "source": [
    "## Assignments for Week-02"
   ]
  },
  {
   "cell_type": "markdown",
   "metadata": {},
   "source": [
    "In this course, we learnt what's the search problem and what's the machine leanring. In this assignment, we need you do some more practice."
   ]
  },
  {
   "cell_type": "markdown",
   "metadata": {},
   "source": [
    "### 1. Re-code the house price machine learning\n",
    "\n",
    "###### 1. Random Choose Method to get optimal *k* and *b*\n",
    "###### 2.Supervised Direction to get optimal *k* and *b*\n",
    "###### 3.Gradient Descent to get optimal *k* and *b*\n",
    "###### 4. Try different Loss function and learning rate. \n",
    "\n",
    "For example, you can change the loss function: $Loss = \\frac{1}{n} sum({y_i - \\hat{y_i}})^2$ to $Loss = \\frac{1}{n} sum(|{y_i - \\hat{y_i}}|)$\n",
    "\n",
    "And you can change the learning rate and observe the performance."
   ]
  },
  {
   "cell_type": "code",
   "execution_count": null,
   "metadata": {},
   "outputs": [],
   "source": [
    "from sklearn import datasets\n",
    "import matplotlib.pyplot as plt\n",
    "from IPython import display\n",
    "import random\n",
    "import numpy as np\n",
    "\n",
    "# 数据导入\n",
    "dataset = dataset.load_boston()\n",
    "\n",
    "# 简单可视化，一个比较直觉的感受是，房价与面积成正比，没有看到相应的面积数据，但是有每间屋子的房间数\n",
    "# 将横坐标设置为房间数，纵坐标设置为房价\n",
    "\n",
    "# 图像显示设置\n",
    "def use_svg_display():\n",
    "    display.set_matplotlib_formats(\"svg\")\n",
    "\n",
    "def set_figsize(figsize=(3.5, 2.5)):\n",
    "    use_svg_display()\n",
    "    plt.rcParams['figure.figsize'] = figsize\n",
    "\n",
    "set_figsize()\n",
    "\n",
    "plt.scatter(dataset['data'][:, 5], dataset['target'])\n",
    "plt.xlabel(\"Average Room Per Dwelling\")\n",
    "plt.ylabel(\"House Price\")"
   ]
  },
  {
   "cell_type": "code",
   "execution_count": null,
   "metadata": {},
   "outputs": [],
   "source": [
    "def price(rm, k, b):\n",
    "    return k * rm + b\n",
    "\n",
    "def loss(y, y_hat):\n",
    "    return np.sum((y - y_hat) ** 2)\n",
    "\n",
    "best_k, best_b = None, None\n",
    "min_loss = np.inf\n",
    "for i in range(100000):\n",
    "    k = random.randint(-100, 100)\n",
    "    b = random.randint(-100, 100)\n",
    "    price_random_by_k_and_b = price(dataset[\"data\"][:, 5], k, b)\n",
    "\n",
    "    current_loss = loss(dataset['target'], price_random_by_k_and_b)\n",
    "    if current_loss < min_loss:\n",
    "        best_k = k\n",
    "        best_b = b\n",
    "        min_loss = current_loss\n",
    "\n",
    "    if i % 1000 == 0:\n",
    "        print(f\"best k and best b is: {best_k} and {best_b} with loss {min_loss:.4f}\")"
   ]
  },
  {
   "cell_type": "code",
   "execution_count": null,
   "metadata": {},
   "outputs": [],
   "source": [
    "direction = [\n",
    "    (+1, -1),\n",
    "    (+1, +1),\n",
    "    (-1, +1),\n",
    "    (-1, -1)\n",
    "]\n",
    "\n",
    "next_direction = random.choice(direction)\n",
    "\n",
    "scalar = 0.1\n",
    "\n",
    "# 随机选取初始值\n",
    "current_k = random.random() * 200 - 100\n",
    "current_b = random.random() * 200 - 100\n",
    "best_k, best_b = None, None\n",
    "min_loss = np.inf\n",
    "for i in range(10000):\n",
    "    k_direction, b_direction = next_direction\n",
    "    current_k, current_b = best_k + k_direction*scalar, b + b_direction*scalar\n",
    "    price_by_k_and_p = price(dataset['data'][:, 5], current_k, current_b)\n",
    "    current_loss = loss(price, price_by_k_and_p)\n",
    "\n",
    "    if current_loss < min_loss:\n",
    "        min_loss = current_loss\n",
    "        best_k, best_b = current_k, current_b\n",
    "    else:\n",
    "        next_direction = random.choice(direction)\n",
    "\n",
    "    if i % 1000 == 0:\n",
    "        print(f\"current min loss {min_loss:.4f} with best_k {best_k} and best_b {best_b}\")"
   ]
  },
  {
   "cell_type": "markdown",
   "metadata": {},
   "source": [
    "![](https://timgsa.baidu.com/timg?image&quality=80&size=b9999_10000&sec=1562414412237&di=8377c38d7b50c6f8d45b92ccc78dc1e7&imgtype=0&src=http%3A%2F%2Fmmbiz.qpic.cn%2Fmmbiz_jpg%2FlSyiavfm6wPgQDuDYa42IMgSkLOcPJU91RbkMibGy7VHLrhhNVLibTYk1iaLcmXKTdHc4icTDVia59QFXwqpW8cLflaw%2F640%3Fwx_fmt%3Djpeg)"
   ]
  },
  {
   "cell_type": "markdown",
   "metadata": {},
   "source": [
    "## 2. Answer following questions:\n",
    "\n",
    "\n",
    "###### 1. Why do we need machine learning methods instead of creating a complicated formula?\n"
   ]
  },
  {
   "cell_type": "markdown",
   "metadata": {},
   "source": [
    "Ans:  It's hard to define function to describe data connection. With data fed, machine learning can\n",
    "   automatically generate appropriate functions."
   ]
  },
  {
   "cell_type": "markdown",
   "metadata": {},
   "source": [
    "###### 2.  Wha't's the disadvantages of `the 1st Random Choosen` methods in our course? "
   ]
  },
  {
   "cell_type": "markdown",
   "metadata": {},
   "source": [
    "Ans:\n",
    "- With more training, results can be more accurate while the calculation costs more time.\n",
    "- Results will be different with different random choosen method."
   ]
  },
  {
   "cell_type": "markdown",
   "metadata": {},
   "source": [
    "###### 3. Is the `2nd method supervised direction` better than 1st one?  What's the disadvantages of `the 2nd supversied directin` method? "
   ]
  },
  {
   "cell_type": "markdown",
   "metadata": {},
   "source": [
    "Ans:\n",
    "- Good results can be converged with less time.\n",
    "- Definition of directions is decided manully. It could be more complicated when paramters\n",
    "     getting more. Direction choosen method is random, which could cost more time."
   ]
  },
  {
   "cell_type": "markdown",
   "metadata": {},
   "source": [
    "###### 4. Why do we use `Derivative / Gredient` to fit a target function? "
   ]
  },
  {
   "cell_type": "markdown",
   "metadata": {},
   "source": [
    "Ans: It's a more efficient way to update parameters according to mathematic conclusion."
   ]
  },
  {
   "cell_type": "markdown",
   "metadata": {},
   "source": [
    "###### 5. In the words 'Gredient Descent', what's the `Gredient` and what's the `Descent`?"
   ]
  },
  {
   "cell_type": "markdown",
   "metadata": {},
   "source": [
    "Ans:\n",
    "   - Gradient: the partial derivative of parameters.\n",
    "   - Desecnt: each iteration will update parameter opposite the direction of gradient."
   ]
  },
  {
   "cell_type": "markdown",
   "metadata": {},
   "source": [
    "###### 6. What's the advantages of `the 3rd gradient descent method` compared to the previous methods?"
   ]
  },
  {
   "cell_type": "markdown",
   "metadata": {},
   "source": [
    "Ans: With large dataset, the computation may cost more time. Each epoch will calculate partial\n",
    "     derivate of each parameters together with loss function."
   ]
  },
  {
   "cell_type": "markdown",
   "metadata": {},
   "source": [
    "###### 7. Using the simple words to describe: What's the machine leanring."
   ]
  },
  {
   "cell_type": "markdown",
   "metadata": {},
   "source": [
    "Ans: Using computer to automatically find the best function with data fed."
   ]
  },
  {
   "cell_type": "markdown",
   "metadata": {},
   "source": [
    "## 3. Finish the search problem"
   ]
  },
  {
   "cell_type": "markdown",
   "metadata": {},
   "source": [
    "Please using the search policy to implement an agent. This agent receives two input, one is @param start station and the other is @param destination. Your agent should give the optimal route based on Beijing Subway system. "
   ]
  },
  {
   "cell_type": "markdown",
   "metadata": {},
   "source": [
    "> Deadline: 2019-July-13\n",
    "\n",
    ">Submit: Submit the source code and result to github. \n",
    "\n"
   ]
  },
  {
   "cell_type": "markdown",
   "metadata": {},
   "source": [
    "![](https://timgsa.baidu.com/timg?image&quality=80&size=b9999_10000&sec=1562414356407&di=b57814aafd215bb8b8d9d8cd37c573d6&imgtype=0&src=http%3A%2F%2Fcli.clewm.net%2Ffile%2F2015%2F03%2F24%2F174ed60082b8422ac0636cfd3efb9e7f.jpg)"
   ]
  },
  {
   "cell_type": "markdown",
   "metadata": {},
   "source": [
    "#### Dataflow: "
   ]
  },
  {
   "cell_type": "markdown",
   "metadata": {},
   "source": [
    "##### 1.\tGet data from web page.\n",
    "\n",
    "> a.\tGet web page source from: https://baike.baidu.com/item/%E5%8C%97%E4%BA%AC%E5%9C%B0%E9%93%81/408485\n",
    "\n",
    "> b.\tYou may need @package **requests**[https://2.python-requests.org/en/master/] page to get the response via url\n",
    "\n",
    "> c.\tYou may need save the page source to file system.\n",
    "\n",
    "> d.\tThe target of this step is to get station information of all the subway lines;\n",
    "\n",
    "> e.\tYou may need install @package beautiful soup[https://www.crummy.com/software/BeautifulSoup/bs4/doc/]  to get the url information, or just use > Regular Expression to get the url.  Our recommendation is that using the Regular Expression and BeautiflSoup both. \n",
    "\n",
    "> f.\tYou may need BFS to get all the related page url from one url. \n",
    "Question: Why do we use BFS to traverse web page (or someone said, build a web spider)?  Can DFS do this job? which is better? "
   ]
  },
  {
   "cell_type": "markdown",
   "metadata": {},
   "source": [
    "##### 2.\tPreprocessing data from page source.\n",
    "\n",
    "> a.\tBased on the page source gotten from url. You may need some more preprocessing of the page. \n",
    "\n",
    "> b.\tthe Regular Expression you may need to process the text information.\n",
    "\n",
    "> c.\tYou may need @package networkx, @package matplotlib to visualize data. \n",
    "\n",
    "> d.\tYou should build a dictionary or graph which could represent the connection information of Beijing subway routes. \n",
    "\n",
    "> e.\tYou may need the defaultdict, set data structures to implement this procedure. "
   ]
  },
  {
   "cell_type": "markdown",
   "metadata": {},
   "source": [
    "##### 3. Build the search agent\n",
    "\n",
    "> Build the search agent based on the graph we build.\n",
    "\n",
    "for example, when you run: \n",
    "\n",
    "```python\n",
    ">>> search('奥体中心', '天安门') \n",
    "```\n",
    "you need get the result: \n",
    "\n",
    "奥体中心-> A -> B -> C -> ... -> 天安门\n",
    "\n"
   ]
  },
  {
   "cell_type": "code",
   "execution_count": 4,
   "metadata": {},
   "outputs": [
    {
     "name": "stderr",
     "output_type": "stream",
     "text": [
      "/Users/huchen/.pyenv/versions/anaconda3-2019.03/lib/python3.7/site-packages/networkx/drawing/nx_pylab.py:611: MatplotlibDeprecationWarning: isinstance(..., numbers.Number)\n",
      "  if cb.is_numlike(alpha):\n"
     ]
    },
    {
     "data": {
      "image/png": "[encoded data removed]",
      "text/plain": [
       "<Figure size 432x288 with 1 Axes>"
      ]
     },
     "metadata": {},
     "output_type": "display_data"
    }
   ],
   "source": [
    "import requests\n",
    "import re\n",
    "import pandas as pd\n",
    "import networkx as nx\n",
    "import matplotlib.pyplot as plt\n",
    "\n",
    "def request_url(url:str, headers: dict=None):\n",
    "    \"\"\"\n",
    "    爬取 url 网页信息，并返回网页内容\n",
    "    :param url: 网址\n",
    "    :param headers: 浏览器 headers 信息\n",
    "    \"\"\"\n",
    "    try:\n",
    "        response = requests.get(url, headers=headers)\n",
    "    except:\n",
    "        raise ValueError(f\"语法错误，无法抓取 {url} 信息\")\n",
    "    if response.status_code != 200:\n",
    "        print(f\"抓取错误，无法抓取 {url} 信息\")\n",
    "    return response.content.decode()\n",
    "\n",
    "base_url = \"https://baike.baidu.com/item/北京地铁\"\n",
    "headers = headers = {\n",
    "    \"User-Agent\":\n",
    "    \"Mozilla/5.0 (Macintosh; Intel Mac OS X 10_14_5)\"\n",
    "    \" AppleWebKit/537.36 (KHTML, like Gecko) Chrome/75.0.3770.100 Safari/537.36\"}\n",
    "response = request_url(base_url, headers=headers)\n",
    "\n",
    "# 观察发现，页面第二个表格中有运营中线路信息\n",
    "# 直接利用该表格中相应线路信息\n",
    "# 表格最后一行不需要，直接剔除\n",
    "# 由于北京地铁 14 号线分东段和西段，但是百度词条直接是一条，这里先作为一条线路，之后在分开处理\n",
    "metro_lines = list(set([re.findall(r\"(\\w+线)\", line)[0]\n",
    "                        for line in pd.read_html(response)[1]['线路名称'].tolist()[:-1]]))\n",
    "\n",
    "page_info = []\n",
    "dict_metro_line_stations = dict()\n",
    "for metro_line in metro_lines:\n",
    "    dict_metro_line_stations[metro_line] = []\n",
    "for metro_line in metro_lines:\n",
    "    response = request_url(base_url+metro_line, headers=headers)\n",
    "    # 对爬取网页进行缓存，避免重复抓取\n",
    "    page_info.append(response)\n",
    "    # 不同线路的百度词条，可能包括多个表都含有车站信息\n",
    "    # 经过观察，这里采用第一个遇到的包含车站信息的表格中车站信息\n",
    "    tables = pd.read_html(response)\n",
    "    for table in tables:\n",
    "        try:\n",
    "            stations = table['车站名称'].tolist()\n",
    "            # 从表格中抽取到的信息有些会混入垃圾信息，利用正则匹配过滤\n",
    "            for item in stations:\n",
    "                station = re.findall(r\"(\\w+?站)\", item.split(' ')[0])\n",
    "                if station:\n",
    "                    dict_metro_line_stations[metro_line].append(station[0])\n",
    "            break\n",
    "        except:\n",
    "            continue\n",
    "            \n",
    "dict_metro_line_stations['14号线 (西段)'] = dict_metro_line_stations['14号线'][:7]\n",
    "dict_metro_line_stations['14号线 (东段)'] = dict_metro_line_stations['14号线'][7:]\n",
    "dict_metro_line_stations.pop(\"14号线\")\n",
    "\n",
    "flag_cycle = False\n",
    "# 判断车站之间的联系\n",
    "dict_station_relations = dict()\n",
    "for metro_line in dict_metro_line_stations:\n",
    "    stations = dict_metro_line_stations[metro_line]\n",
    "    if stations[0] == stations[-1]:\n",
    "        # 判断是否环线\n",
    "        flag_cycle = True\n",
    "    if stations[0] == stations[1]:\n",
    "        # 判断是否有重复\n",
    "        dict_metro_line_stations[metro_line].pop(0)\n",
    "    if flag_cycle:\n",
    "        # 环线的话，最后一站就是起始站\n",
    "        dict_metro_line_stations[metro_line].pop(-1)\n",
    "        stations = dict_metro_line_stations[metro_line]\n",
    "        for i in range(len(stations)-1):\n",
    "            if stations[i] not in dict_station_relations:\n",
    "                dict_station_relations[stations[i]] = [(metro_line, stations[i-1]), (metro_line, stations[i+1])]\n",
    "            else:\n",
    "                dict_station_relations[stations[i]] += [(metro_line, stations[i-1]), (metro_line, stations[i+1])]\n",
    "        # 最后一站单独处理\n",
    "        if stations[-1] not in dict_station_relations:\n",
    "            dict_station_relations[stations[-1]] = [(metro_line, stations[-2]), (metro_line, stations[0])]\n",
    "        else:\n",
    "            dict_station_relations[stations[-1]] += [(metro_line, stations[-2]), (metro_line, stations[0])]\n",
    "        # 线路关系构建完毕，环线标志重置\n",
    "        flag_cycle = False\n",
    "    else:\n",
    "        stations = dict_metro_line_stations[metro_line]\n",
    "        for i in range(len(stations)):\n",
    "            if i == 0:\n",
    "                if stations[i] not in dict_station_relations:\n",
    "                    dict_station_relations[stations[i]] = [(metro_line, stations[i+1])]\n",
    "                else:\n",
    "                    dict_station_relations[stations[i]] += [(metro_line, stations[i+1])]\n",
    "            elif i == len(stations) - 1:\n",
    "                if stations[i] not in dict_station_relations:\n",
    "                    dict_station_relations[stations[i]] = [(metro_line, stations[i-1])]\n",
    "                else:\n",
    "                    dict_station_relations[stations[i]] += [(metro_line, stations[i-1])]\n",
    "            else:\n",
    "                if stations[i] not in dict_station_relations:\n",
    "                    dict_station_relations[stations[i]] = [(metro_line, stations[i-1]), (metro_line, stations[i+1])]\n",
    "                else:\n",
    "                    dict_station_relations[stations[i]] += [(metro_line, stations[i-1]), (metro_line, stations[i+1])]\n",
    "                    \n",
    "stations_graph = nx.Graph()\n",
    "for key in dict_station_relations:\n",
    "    for value in dict_station_relations[key]:\n",
    "        stations_graph.add_edge(key, value[1])\n",
    "nx.draw(stations_graph, edge_color='b', node_color='g', with_label=True, node_size=20)"
   ]
  },
  {
   "cell_type": "code",
   "execution_count": 8,
   "metadata": {},
   "outputs": [],
   "source": [
    "def search(start: str, end: str, graph: dict, sort_candidate):\n",
    "    \"\"\"\n",
    "    根据 graph，根据 sort_candidate 排序方法，返回从 start 到 end 之间的路径\n",
    "    :param start: 起始点\n",
    "    :param end: 目的地\n",
    "    :param graph: 图模型\n",
    "    :param sort_candidate: 排序函数\n",
    "    \"\"\"\n",
    "    pathes = [[(None, start)]] # 保存搜索路径，其实搜索路径为起始点\n",
    "    visited = set() # 维护已经访问过子结点的结点\n",
    "\n",
    "    while pathes:\n",
    "        path = pathes.pop(0) # 取出相应路径序列\n",
    "        frontier = path[-1] # 准备访问路径序列最新的一点的子结点\n",
    "\n",
    "        if frontier in visited: continue # 已经访问过的结点，略过\n",
    "\n",
    "        successors = graph[frontier[1]] # 从图模型中取出相应结点的子结点\n",
    "\n",
    "        for successor in successors:\n",
    "            if successor in path: continue # 如果子结点已经出现在之前路径中，略过\n",
    "            new_path = path + [successor] # 产生新的路径\n",
    "            pathes.append(new_path)\n",
    "            if successor[1] == end: return new_path\n",
    "        visited.add(frontier)\n",
    "        # 如果没有找到相应路径\n",
    "        sort_candidate(pathes)    \n",
    "    return []\n",
    "\n",
    "\n",
    "def transfer_stations_first(pathes: list):\n",
    "    \"\"\"\n",
    "    尽量少换乘车站\n",
    "    :param pathes: 路径\n",
    "    \"\"\"\n",
    "    return sorted(pathes, key=len)\n",
    "\n",
    "def transfer_as_much_possible(pathes: list):\n",
    "    \"\"\"\n",
    "    尽量多换乘车站\n",
    "    \"\"\"\n",
    "    return sorted(pathes, key=len, reverse=True)"
   ]
  },
  {
   "cell_type": "code",
   "execution_count": 9,
   "metadata": {},
   "outputs": [
    {
     "data": {
      "text/plain": [
       "[(None, '苹果园站'),\n",
       " ('6号线', '杨庄站'),\n",
       " ('6号线', '西黄村站'),\n",
       " ('6号线', '廖公庄站'),\n",
       " ('6号线', '田村站'),\n",
       " ('6号线', '海淀五路居站'),\n",
       " ('6号线', '慈寿寺站'),\n",
       " ('6号线', '花园桥站'),\n",
       " ('6号线', '白石桥南站'),\n",
       " ('6号线', '二里沟站'),\n",
       " ('6号线', '车公庄西站'),\n",
       " ('6号线', '车公庄站'),\n",
       " ('6号线', '平安里站'),\n",
       " ('6号线', '北海北站'),\n",
       " ('6号线', '南锣鼓巷站'),\n",
       " ('6号线', '东四站'),\n",
       " ('6号线', '朝阳门站'),\n",
       " ('2号线', '建国门站'),\n",
       " ('1号线', '永安里站'),\n",
       " ('1号线', '国贸站'),\n",
       " ('1号线', '大望路站'),\n",
       " ('1号线', '四惠站'),\n",
       " ('八通线', '四惠东站')]"
      ]
     },
     "execution_count": 9,
     "metadata": {},
     "output_type": "execute_result"
    }
   ],
   "source": [
    "search(\"苹果园站\", \"四惠东站\", dict_station_relations, transfer_stations_first)"
   ]
  },
  {
   "cell_type": "markdown",
   "metadata": {},
   "source": [
    "## （Optional）Create different policies for transfer system.\n"
   ]
  },
  {
   "cell_type": "markdown",
   "metadata": {},
   "source": [
    "以下部门为可选部分，请酌情完成。 并不要求全部同学完成。"
   ]
  },
  {
   "cell_type": "markdown",
   "metadata": {},
   "source": [
    "As much as you can to use the already implemented search agent. You just need to define the **is_goal()**, **get_successor()**, **strategy()** three functions. \n",
    "\n",
    "> a.\tDefine different policies for transfer system. \n",
    "\n",
    "> b.\tSuch as Shortest Path Priority（路程最短优先）, Minimum Transfer Priority(最少换乘优先), Comprehensive Priority(综合优先)\n",
    "\n",
    "> c.\tImplement Continuous transfer. Based on the Agent you implemented, please add this feature: Besides the @param start and @param destination two stations, add some more stations, we called @param by_way, it means, our path should from the start and end, but also include the  @param by_way stations. \n",
    "\n",
    "e.g \n",
    "```\n",
    "1. Input:  start=A,  destination=B, by_way=[C] \n",
    "    Output: [A, … .., C, …. B]\n",
    "2. Input: start=A, destination=B, by_way=[C, D, E]\n",
    "    Output: [A … C … E … D … B]  \n",
    "    # based on your policy, the E station could be reached firstly. \n",
    "![image.png](attachment:image.png)\n",
    "```"
   ]
  },
  {
   "cell_type": "markdown",
   "metadata": {},
   "source": [
    "##### 5.\tTest your result with commercial applications. \n",
    "\n",
    "将你的结果和高德地图或者百度地图进行比较，如果有不同，请分析原因\n"
   ]
  },
  {
   "cell_type": "markdown",
   "metadata": {},
   "source": [
    "恭喜，完成本次课程，你对常用的人工智能方法以及有一定的了解了。基于规则的，基于概率模型的，基于搜索的，基于机器学习的。 可以说，我们现在通常见到的方法都能够归属到这几类方法中。 这就是**人工智能**，并没有很难是吧？ 继续加油！"
   ]
  },
  {
   "cell_type": "markdown",
   "metadata": {},
   "source": [
    "![](https://timgsa.baidu.com/timg?image&quality=80&size=b9999_10000&sec=1562415163815&di=4b29a2a863a8285212033760f288ed7a&imgtype=0&src=http%3A%2F%2F5b0988e595225.cdn.sohucs.com%2Fimages%2F20180710%2F8704194a1d7f46a383ddc29d40c9bca5.jpeg)"
   ]
  }
 ],
 "metadata": {
  "kernelspec": {
   "display_name": "Python 3",
   "language": "python",
   "name": "python3"
  },
  "language_info": {
   "codemirror_mode": {
    "name": "ipython",
    "version": 3
   },
   "file_extension": ".py",
   "mimetype": "text/x-python",
   "name": "python",
   "nbconvert_exporter": "python",
   "pygments_lexer": "ipython3",
   "version": "3.7.3"
  }
 },
 "nbformat": 4,
 "nbformat_minor": 2
}
